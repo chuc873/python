{
 "cells": [
  {
   "cell_type": "markdown",
   "metadata": {},
   "source": [
    "# Templates and Bootstrap\n",
    "\n",
    "Now, we will use Django's built in templating to style our home page.  Django will look within each app for templates or for a base folder call `templates`.  We will create a folder in the main project to house our templates, and a file called `home` to place our styling in.\n",
    "\n",
    "```\n",
    "mkdir templates\n",
    "touch templates/home.html\n",
    "```"
   ]
  },
  {
   "cell_type": "markdown",
   "metadata": {},
   "source": [
    "Now, we will use the `settings.py` file to establish our template and tell Django where it is located.  Adding the line:\n",
    "\n",
    "```python\n",
    "TEMPLATES = [\n",
    "    {\n",
    "        'DIRS': [os.path.join(BASE_DIR, 'templates')],\n",
    "    \n",
    "},\n",
    "]\n",
    "```\n",
    "\n",
    "Let's add some HTML to our home.html file as well.\n",
    "\n",
    "```HTML\n",
    "<h1>Hello again.</h1>\n",
    "```"
   ]
  },
  {
   "cell_type": "markdown",
   "metadata": {},
   "source": [
    "### Updating Views\n",
    "\n",
    "There is a built-in TemplateView method that we will use in the `views.py` file.  Here, we follow a similar approach to our last example in terms of mapping urls.  In our `views.py` file we will add \n",
    "\n",
    "```python\n",
    "from django.views.generic import TemplateView\n",
    "\n",
    "class HomePageView(TemplateView):\n",
    "    template_name = 'home.html'\n",
    "    \n",
    "```"
   ]
  },
  {
   "cell_type": "markdown",
   "metadata": {},
   "source": [
    "In the app level `urls.py`, we just need to change the line in our `urlpatterns` list:\n",
    "\n",
    "```python\n",
    "path('', views.HomePageView.as_view(), name = 'home')\n",
    "```\n",
    "\n",
    "Now, if we restart the server we will have our new home page rendered."
   ]
  },
  {
   "cell_type": "markdown",
   "metadata": {},
   "source": [
    "### Adding a Page\n",
    "\n",
    "To add a page, we will create a new template, view, and url route just as above.  We can call this page our about page.\n",
    "\n",
    "```\n",
    "touch templates/about.html\n",
    "```\n",
    "\n",
    "Add HTML to the about page.\n",
    "\n",
    "```HTML\n",
    "<h1>This is about me.</h1>\n",
    "```\n",
    "\n",
    "We create a view in our `views.py` file, we will create an aboutpageview class.\n",
    "\n",
    "```python\n",
    "class aboutpageview(TemplateView):\n",
    "    template_name = 'about.html'\n",
    "```\n",
    "\n",
    "In our `urls.py` file, we add a line to our urlpatterns to direct visitors to the about page.\n",
    "\n",
    "```python\n",
    "path('about/', views.aboutpageview.as_view(), name = 'about'),\n",
    "```"
   ]
  },
  {
   "cell_type": "markdown",
   "metadata": {},
   "source": [
    "### Extending the Template\n",
    "\n",
    "Now, we will create a base file that we can use to extend a style across multiple pages.  To do so, we will create a base file, and then use the Django minimal templating language to pull the formatting in to the additional pages.  \n",
    "\n",
    "```\n",
    "touch templates/base.html\n",
    "```\n",
    "\n",
    "Here, we can add a minimal header to see how this can be applied to all pages. In the new `base.html` file, write the following:\n",
    "\n",
    "```HTML\n",
    "<header>\n",
    "  <a href=\"{% url 'home' %}\">Home</a> | <a href=\"{% url 'about' %}\">About</a>\n",
    "</header>\n",
    "\n",
    "{% block content %}\n",
    "{% endblock %}\n",
    "```\n",
    "\n",
    "Now, we alter the `home.html` and `about.html` files to extend the `base.html` file.  In each, we will add the line\n",
    "\n",
    "```HTML\n",
    "{% extends 'base.html' %}\n",
    "```\n",
    "\n",
    "Finally, we wrap the content of both pages with `{% block content %}{% endblock %}`.  Thus, in our `home.html` file, we have:\n",
    "\n",
    "```HTML\n",
    "{% extends 'base.html' %}\n",
    "\n",
    "{% block content %}\n",
    "<h1>Welcome Home Jacob.</h1>\n",
    "{% endblock %}\n",
    "```\n",
    "\n",
    "Same thing in our `about.html` file.  Restart the server and you should see the header appear.\n",
    "\n",
    "### Using Bootstrap\n",
    "\n",
    "![](images/bootstrap_home.png)\n",
    "\n",
    "The bootstrap framework is a way around developing all our own CSS.  We can either directly download the files, or use the CDN link.  We will follow this approach by copying the CDN information from the Bootstrap getting started page.\n",
    "\n",
    "https://getbootstrap.com/docs/3.3/getting-started/\n",
    "\n",
    "Go to our `base.html` file, and add the link in a `<head></head>` tag.\n",
    "\n",
    "```HTML\n",
    "<head>\n",
    "<link rel=\"stylesheet\" href=\"https://maxcdn.bootstrapcdn.com/bootstrap/3.3.7/css/bootstrap.min.css\" integrity=\"sha384-BVYiiSIFeK1dGmJRAkycuHAHRg32OmUcww7on3RYdg4Va+PmSTsz/K68vbdEjh4u\" crossorigin=\"anonymous\">\n",
    "</head>\n",
    "```\n",
    "\n",
    "Fire up the server and you should notice a slight formatting change."
   ]
  },
  {
   "cell_type": "markdown",
   "metadata": {},
   "source": [
    "### Tests\n",
    "\n",
    "A major part of development in Django is the use of tests to assure everything is working.  While our page is extremely simple, we still want to make sure that our home and about pages are functioning to return responses.  In the `tests.py` file, we will place two simple tests that verify these pages are returning a 200 response code.\n",
    "\n",
    "\n",
    "```python\n",
    "from django.test import TestCase\n",
    "\n",
    "# Create your tests here.\n",
    "from django.test import SimpleTestCase\n",
    "\n",
    "\n",
    "class SimpleTests(SimpleTestCase):\n",
    "    def test_home_page_status_code(self):\n",
    "        response = self.client.get('/')\n",
    "        self.assertEqual(response.status_code, 200)\n",
    "\n",
    "    def test_about_page_status_code(self):\n",
    "        response = self.client.get('/about/')\n",
    "        self.assertEqual(response.status_code, 200)\n",
    "```"
   ]
  },
  {
   "cell_type": "markdown",
   "metadata": {},
   "source": [
    "### Problem\n",
    "\n",
    "Remember that our goal is to put together a website to share our Python Data projects that we've been making in Jupyter notebooks.  To do so, let's consider taking a notebook, converting it to an HTML file, and adding this file to a a page called **Projects** where users can see our different projects for visitors to see.\n",
    "\n",
    "To create the HTML files of the notebooks, we will use Jupyter's `nbconvert` functionality.  To start, navigate to the directory where your notebooks are housed with the terminal and `cd` command. Now, whatever notebook you would like to convert, enter\n",
    "\n",
    "```\n",
    "jupyter nbconvert notebook.ipynb \n",
    "```\n",
    "\n",
    "and you will have a new HTML file in the same folder.  If you want, you can enter a directory to place this new file, for example\n",
    "\n",
    "```\n",
    "jupyter nbconvert notebook.ipynb htmls/\n",
    "```\n",
    "assuming we have an htmls directory."
   ]
  },
  {
   "cell_type": "markdown",
   "metadata": {},
   "source": [
    "Your goal is to play around with the different bootstrap features to style your home and about pages, and to add a projects page that contains your first Python projects from the Jupyter notebooks.  You should explore a nicer navbar that includes a logo image."
   ]
  }
 ],
 "metadata": {
  "kernelspec": {
   "display_name": "Python 3",
   "language": "python",
   "name": "python3"
  },
  "language_info": {
   "codemirror_mode": {
    "name": "ipython",
    "version": 3
   },
   "file_extension": ".py",
   "mimetype": "text/x-python",
   "name": "python",
   "nbconvert_exporter": "python",
   "pygments_lexer": "ipython3",
   "version": "3.6.4"
  }
 },
 "nbformat": 4,
 "nbformat_minor": 2
}
