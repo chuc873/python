{
 "cells": [
  {
   "cell_type": "markdown",
   "metadata": {},
   "source": [
    "# Django Forms\n",
    "\n",
    "`polls/templates/polls/detail.html`\n",
    "\n",
    "\n",
    "```HTML\n",
    "<h1>{{ question.question_text }}</h1>\n",
    "\n",
    "{% if error_message %}<p><strong>{{ error_message }}</strong></p>{% endif %}\n",
    "\n",
    "<form action=\"{% url 'polls:vote' question.id %}\" method=\"post\">\n",
    "{% csrf_token %}\n",
    "{% for choice in question.choice_set.all %}\n",
    "    <input type=\"radio\" name=\"choice\" id=\"choice{{ forloop.counter }}\" value=\"{{ choice.id }}\">\n",
    "    <label for=\"choice{{ forloop.counter }}\">{{ choice.choice_text }}</label><br>\n",
    "{% endfor %}\n",
    "<input type=\"submit\" value=\"Vote\">\n",
    "</form>\n",
    "```"
   ]
  },
  {
   "cell_type": "markdown",
   "metadata": {},
   "source": [
    "## Process Data with View\n",
    "\n",
    "```python\n",
    "from django.http import HttpResponse, HttpResponseRedirect\n",
    "from django.shortcuts import get_object_or_404, render\n",
    "from django.urls import reverse\n",
    "\n",
    "from .models import Choice, Question\n",
    "# ...\n",
    "def vote(request, question_id):\n",
    "    question = get_object_or_404(Question, pk=question_id)\n",
    "    try:\n",
    "        selected_choice = \n",
    "        #request.POST is a dictionary-like object that lets you access submitted data by key name. In this case, request.POST['choice'] returns the ID of the selected choice, as a string. request.POST values are always strings.\n",
    "        question.choice_set.get(pk=request.POST['choice'])\n",
    "        #request.POST['choice'] will raise KeyError if choice wasn’t provided in POST data. The below code checks for KeyError and redisplays the question form with an error message if choice isn’t given.\n",
    "    except (KeyError, Choice.DoesNotExist):\n",
    "        # Redisplay the question voting form.\n",
    "        return render(request, 'polls/detail.html', {\n",
    "            'question': question,\n",
    "            'error_message': \"You didn't select a choice.\",\n",
    "        })\n",
    "    else:\n",
    "        selected_choice.votes += 1\n",
    "        selected_choice.save()\n",
    "        # Always return an HttpResponseRedirect after successfully dealing\n",
    "        # with POST data. This prevents data from being posted twice if a\n",
    "        # user hits the Back button.\n",
    "        return HttpResponseRedirect(reverse('polls:results', args=(question.id,)))\n",
    "```"
   ]
  },
  {
   "cell_type": "markdown",
   "metadata": {},
   "source": [
    "`polls/views.py`\n",
    "\n",
    "```python\n",
    "from django.shortcuts import get_object_or_404, render\n",
    "\n",
    "\n",
    "def results(request, question_id):\n",
    "    question = get_object_or_404(Question, pk=question_id)\n",
    "    return render(request, 'polls/results.html', {'question': question})\n",
    "```"
   ]
  },
  {
   "cell_type": "markdown",
   "metadata": {},
   "source": [
    "`polls/templates/polls/results.html`\n",
    "\n",
    "```HTML\n",
    "<h1>{{ question.question_text }}</h1>\n",
    "\n",
    "<ul>\n",
    "{% for choice in question.choice_set.all %}\n",
    "    <li>{{ choice.choice_text }} -- {{ choice.votes }} vote{{ choice.votes|pluralize }}</li>\n",
    "{% endfor %}\n",
    "</ul>\n",
    "\n",
    "<a href=\"{% url 'polls:detail' question.id %}\">Vote again?</a>\n",
    "```"
   ]
  },
  {
   "cell_type": "markdown",
   "metadata": {},
   "source": [
    "`polls/urls.py`\n",
    "\n",
    "```python\n",
    "from django.urls import path\n",
    "\n",
    "from . import views\n",
    "\n",
    "app_name = 'polls'\n",
    "urlpatterns = [\n",
    "    path('', views.IndexView.as_view(), name='index'),\n",
    "    path('<int:pk>/', views.DetailView.as_view(), name='detail'),\n",
    "    path('<int:pk>/results/', views.ResultsView.as_view(), name='results'),\n",
    "    path('<int:question_id>/vote/', views.vote, name='vote'),\n",
    "]\n",
    "```"
   ]
  },
  {
   "cell_type": "markdown",
   "metadata": {},
   "source": [
    "`polls/views.py`\n",
    "\n",
    "\n",
    "```python\n",
    "from django.http import HttpResponseRedirect\n",
    "from django.shortcuts import get_object_or_404, render\n",
    "from django.urls import reverse\n",
    "from django.views import generic\n",
    "\n",
    "from .models import Choice, Question\n",
    "\n",
    "\n",
    "class IndexView(generic.ListView):\n",
    "    template_name = 'polls/index.html'\n",
    "    context_object_name = 'latest_question_list'\n",
    "\n",
    "    def get_queryset(self):\n",
    "        \"\"\"Return the last five published questions.\"\"\"\n",
    "        return Question.objects.order_by('-pub_date')[:5]\n",
    "\n",
    "\n",
    "class DetailView(generic.DetailView):\n",
    "    model = Question\n",
    "    template_name = 'polls/detail.html'\n",
    "\n",
    "\n",
    "class ResultsView(generic.DetailView):\n",
    "    model = Question\n",
    "    template_name = 'polls/results.html'\n",
    "\n",
    "\n",
    "def vote(request, question_id):\n",
    "    ... # same as above, no changes needed.\n",
    "```"
   ]
  }
 ],
 "metadata": {
  "kernelspec": {
   "display_name": "Python 3",
   "language": "python",
   "name": "python3"
  },
  "language_info": {
   "codemirror_mode": {
    "name": "ipython",
    "version": 3
   },
   "file_extension": ".py",
   "mimetype": "text/x-python",
   "name": "python",
   "nbconvert_exporter": "python",
   "pygments_lexer": "ipython3",
   "version": "3.6.6"
  }
 },
 "nbformat": 4,
 "nbformat_minor": 2
}
