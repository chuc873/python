{
 "cells": [
  {
   "cell_type": "markdown",
   "metadata": {},
   "source": [
    "# Styling the Application"
   ]
  },
  {
   "cell_type": "markdown",
   "metadata": {},
   "source": [
    "`polls/static/polls/style.css`\n",
    "\n",
    "```css\n",
    "li a {\n",
    "    color: green;\n",
    "}\n",
    "```"
   ]
  },
  {
   "cell_type": "markdown",
   "metadata": {},
   "source": [
    "`polls/templates/polls/index.html`\n",
    "\n",
    "```HTML\n",
    "{% load static %}\n",
    "\n",
    "<link rel=\"stylesheet\" type=\"text/css\" href=\"{% static 'polls/style.css' %}\">\n",
    "```"
   ]
  },
  {
   "cell_type": "markdown",
   "metadata": {},
   "source": [
    "Place background image in `polls/static/polls/images/background.gif`, and add the following to our `style.css`.\n",
    "\n",
    "```css\n",
    "body {\n",
    "    background: white url(\"images/background.gif\") no-repeat;\n",
    "}\n",
    "```"
   ]
  }
 ],
 "metadata": {
  "kernelspec": {
   "display_name": "Python 3",
   "language": "python",
   "name": "python3"
  },
  "language_info": {
   "codemirror_mode": {
    "name": "ipython",
    "version": 3
   },
   "file_extension": ".py",
   "mimetype": "text/x-python",
   "name": "python",
   "nbconvert_exporter": "python",
   "pygments_lexer": "ipython3",
   "version": "3.6.6"
  }
 },
 "nbformat": 4,
 "nbformat_minor": 2
}
