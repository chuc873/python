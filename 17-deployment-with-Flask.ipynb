{
 "cells": [
  {
   "cell_type": "markdown",
   "metadata": {
    "slideshow": {
     "slide_type": "slide"
    }
   },
   "source": [
    "## Introduction to Flask\n",
    "![flask logo](http://flask.pocoo.org/static/logo/flask.png)\n"
   ]
  },
  {
   "cell_type": "markdown",
   "metadata": {
    "slideshow": {
     "slide_type": "slide"
    }
   },
   "source": [
    "Flask is a fast, lightweight way to connect your Python scripts to a server. It's a simple and robust framework that can do small tasks (create a microblog, stand up a simple API) or complex ones (Pinterest's API, create a twitter clone).\n",
    "\n",
    "Let's jump in with a simple example. Then, we'll expand it to show what it can do with your models. But first you may need to:\n",
    "\n",
    "```bash\n",
    "$ pip install Flask\n",
    "```\n",
    "\n"
   ]
  },
  {
   "cell_type": "markdown",
   "metadata": {
    "slideshow": {
     "slide_type": "slide"
    }
   },
   "source": [
    "## Hello, world.\n",
    "Create a new file called `hello.py` . Type in this code line by line. No copy pasting!\n",
    "\n",
    "```Python\n",
    "import flask\n",
    "app = flask.Flask(__name__)\n",
    "\n",
    "@app.route(\"/\")\n",
    "def hello():\n",
    "    return \"Hello World!\"\n",
    "\n",
    "if __name__ == '__main__':\n",
    "    app.run(debug=True)\n",
    "```\n",
    "\n",
    "\n"
   ]
  },
  {
   "cell_type": "markdown",
   "metadata": {
    "slideshow": {
     "slide_type": "slide"
    }
   },
   "source": [
    "Three things happen here:\n",
    "- initialize the app\n",
    "- use built-in decorators\\* to define what happens on a page\n",
    "- launch the app\n",
    "\n",
    "\\* I'll explain soon..."
   ]
  },
  {
   "cell_type": "markdown",
   "metadata": {
    "slideshow": {
     "slide_type": "slide"
    }
   },
   "source": [
    "Now launch the file from your command line:\n",
    "\n",
    "```bash\n",
    "$ python hello.py\n",
    "* Running on http://127.0.0.1:5000/ (Press CTRL+C to quit)\n",
    "```\n",
    "\n",
    "Go to that URL$^*$ in your browser to see your app running on your `localhost`. (Or use `curl`!)\n",
    "\n",
    "\n",
    "$^*$ **Your port may not be 5000. There may also be a longer URL which you need to copy-paste exactly.**\n"
   ]
  },
  {
   "cell_type": "markdown",
   "metadata": {
    "slideshow": {
     "slide_type": "slide"
    }
   },
   "source": [
    "### Arguments and styling\n",
    "\n",
    "Add the following route underneath the hello() function:\n",
    "\n",
    "```Python\n",
    "@app.route('/greet/<name>')\n",
    "def greet(name):\n",
    "    '''Say hello to your first parameter'''\n",
    "    return \"Hello, {}!\".format(name)\n",
    "```\n",
    "\n",
    "Save, and the app should automatically restart; if it doesn't, you can `ctrl-C` and launch it again yourself. Now navigate to `http://127.0.0.1:5000/greet/Roger`. Your function should respond to that input!\n",
    "\n"
   ]
  },
  {
   "cell_type": "markdown",
   "metadata": {
    "slideshow": {
     "slide_type": "slide"
    }
   },
   "source": [
    "### Decorators\n",
    "\n",
    "What's a decorator? The short story: they put wrap one function around another. So the previous function is actually:\n",
    "\n",
    "```Python\n",
    "app.route(greet(name))\n",
    "```\n",
    "\n",
    "See the Further Reading section for a full tutorial. For now, we just need to know that the `@app.route(endpoint)` pattern is how you tell Flask to listen to a particular URL, and what to do if requests are sent there."
   ]
  },
  {
   "cell_type": "markdown",
   "metadata": {
    "slideshow": {
     "slide_type": "slide"
    }
   },
   "source": [
    "Since the `return` statement sends text to an HTML page, you can style it with HTML tags:\n",
    "\n",
    "```Python\n",
    "@app.route(\"/\")\n",
    "def hello():\n",
    "    return '''\n",
    "    <body>\n",
    "    <h2> Hello World! <h2>\n",
    "    </body>\n",
    "    '''\n",
    "```\n",
    "\n",
    "(If you make any coding mistakes, your server may shut down with an error message. Fix the code and rerun!)\n",
    "\n"
   ]
  },
  {
   "cell_type": "markdown",
   "metadata": {
    "slideshow": {
     "slide_type": "slide"
    }
   },
   "source": [
    "## Add in machine learning\n",
    "We can use Flask to share our machine learning predictions.\n",
    "\n",
    "Create a new file `application.py`. Import and initialize the flask app, and launch the server at the bottom. Leave room in the middle to add in your model and routes later on.\n",
    "\n",
    "\n"
   ]
  },
  {
   "cell_type": "markdown",
   "metadata": {
    "slideshow": {
     "slide_type": "slide"
    }
   },
   "source": [
    "```Python\n",
    "import flask\n",
    "app = flask.Flask(__name__)\n",
    "\n",
    "#-------- MODEL GOES HERE -----------#\n",
    "\n",
    "#-------- ROUTES GO HERE -----------#\n",
    "\n",
    "if __name__ == '__main__':\n",
    "    '''Connects to the server'''\n",
    "\n",
    "    HOST = '127.0.0.1'\n",
    "    PORT = '4000'\n",
    "    app.run(HOST, PORT)\n",
    "```\n",
    "\n",
    "Note that this time we specifed the host and port we want the app to run on.\n"
   ]
  },
  {
   "cell_type": "markdown",
   "metadata": {
    "slideshow": {
     "slide_type": "slide"
    }
   },
   "source": [
    "### Deploying an SMS spam detector\n",
    "\n",
    "Here's an idea for a first ML app: something to identify text message spam.\n",
    "\n",
    "You already know how to make this! Let's hook it up to an endpoint."
   ]
  },
  {
   "cell_type": "code",
   "execution_count": 5,
   "metadata": {},
   "outputs": [],
   "source": [
    "import pandas as pd\n",
    "import numpy as np\n",
    "from sklearn.feature_extraction.text import TfidfVectorizer\n",
    "from sklearn.naive_bayes import MultinomialNB"
   ]
  },
  {
   "cell_type": "code",
   "execution_count": 6,
   "metadata": {},
   "outputs": [],
   "source": [
    "df = pd.read_csv('data/SMSSpamCollection.txt', sep='\\t', header=None)\n",
    "df.columns = ['target', 'msg']\n",
    "y = df['target']\n",
    "X = df['msg']"
   ]
  },
  {
   "cell_type": "code",
   "execution_count": 7,
   "metadata": {},
   "outputs": [
    {
     "data": {
      "text/plain": [
       "MultinomialNB(alpha=1.0, class_prior=None, fit_prior=True)"
      ]
     },
     "execution_count": 7,
     "metadata": {},
     "output_type": "execute_result"
    }
   ],
   "source": [
    "cvec = TfidfVectorizer(stop_words='english', max_features = 300)\n",
    "X = cvec.fit_transform(X)\n",
    "clf = MultinomialNB()\n",
    "clf.fit(X, y)"
   ]
  },
  {
   "cell_type": "code",
   "execution_count": 14,
   "metadata": {},
   "outputs": [],
   "source": [
    "text = 'Can I interest you in a new blender? I need your credit card number and social security number.'\n",
    "msg = pd.Series(text)\n",
    "X_new = cvec.transform(msg)\n",
    "score = clf.predict(X_new)"
   ]
  },
  {
   "cell_type": "code",
   "execution_count": 15,
   "metadata": {},
   "outputs": [
    {
     "data": {
      "text/plain": [
       "array(['ham'], dtype='<U4')"
      ]
     },
     "execution_count": 15,
     "metadata": {},
     "output_type": "execute_result"
    }
   ],
   "source": [
    "score"
   ]
  },
  {
   "cell_type": "markdown",
   "metadata": {
    "slideshow": {
     "slide_type": "slide"
    }
   },
   "source": [
    "Import the libraries we need, load our SMS spam dataset from the NLP lesson, and define our target and feature variables.\n",
    "\n",
    "```Python\n",
    "\n",
    "#-------- MODEL GOES HERE -----------#\n",
    "import pandas as pd\n",
    "import numpy as np\n",
    "from sklearn.feature_extraction.text import TfidfVectorizer\n",
    "from sklearn.naive_bayes import MultinomialNB\n",
    "\n",
    "df = pd.read_csv('data/SMSSpamCollection.txt', sep='\\t', header=None)\n",
    "df.columns = ['target', 'msg']\n",
    "y = df['target']\n",
    "X = df['msg']\n",
    "```"
   ]
  },
  {
   "cell_type": "markdown",
   "metadata": {
    "slideshow": {
     "slide_type": "slide"
    }
   },
   "source": [
    "Now vectorize the features (with help from TfidfVectorizer) and fit a Naive Bayes model.\n",
    "\n",
    "```Python\n",
    "# Tfidf, filter stop words, 300 features\n",
    "cvec = TfidfVectorizer(stop_words='english', max_features = 300)\n",
    "X = cvec.fit_transform(X)\n",
    "clf = MultinomialNB()\n",
    "clf.fit(X, y)\n",
    "```\n"
   ]
  },
  {
   "cell_type": "markdown",
   "metadata": {
    "slideshow": {
     "slide_type": "slide"
    }
   },
   "source": [
    "### Make a simple API\n",
    "Here's the fun part. Now that we have a classifier, we need to get some values to make our predictions.\n",
    "\n",
    "One way to do this is to get information from the **URL parameters**. These are the part of a URL that come after the `?` and are matched by key:value pairs. For example, if you navigate to\n",
    "`http://localhost:4000/is_spam?msg=\"50% off fidget spinners!\"` Flask can retrieve that message data for you. Let's write a route to do just that:\n"
   ]
  },
  {
   "cell_type": "markdown",
   "metadata": {
    "slideshow": {
     "slide_type": "slide"
    }
   },
   "source": [
    "This will look for a `GET` request containing a `msg` key at the `/is_spam` endpoint.\n",
    "\n",
    "So visiting `http://localhost:4000/is_spam?msg=\"50% off fidget spinners!\"` will set `flask.request.args['msg']` to \"50% off fidget spinners!\". Then we transform this into something the model can read.\n",
    "\n",
    "```Python\n",
    "#-------- ROUTES GO HERE -----------#\n",
    "@app.route('/is_spam', methods=[\"GET\"])\n",
    "def is_spam():\n",
    "    msg = pd.Series(flask.request.args['msg'])\n",
    "    X_new = cvec.transform(msg)\n",
    "    score = clf.predict(X_new)\n",
    "    results = {'prediction': score[0]}\n",
    "    return flask.jsonify(results)\n",
    "```"
   ]
  },
  {
   "cell_type": "markdown",
   "metadata": {
    "slideshow": {
     "slide_type": "slide"
    }
   },
   "source": [
    "And... voila! Save the file. Launch your app. (Give it 5-10 seconds to start.) You now have a simple API for your model. Try visiting:\n",
    "\n",
    "`http://localhost:4000/is_spam?msg=\"50% off fidget spinners!\"`\n",
    "\n",
    "Or\n",
    "\n",
    "`http://localhost:4000/is_spam?msg=\"pick up milk at the store\"`\n",
    "\n",
    "Play with the message in the URL. You should get a single prediction of spam or ham in neatly formatted JSON. (`localhost` is just a variable set to 127.0.0.1 by default.)\n"
   ]
  },
  {
   "cell_type": "markdown",
   "metadata": {},
   "source": [
    "### Problems\n",
    "\n",
    "1. Build a new Flask application using our `pitchfork.json` data that takes in a genre and returns the top 10 reviews for the genre.\n",
    "\n",
    "2. Add a second field to take in a year to search by.  Demonstrate your application works by finding the top 10 electronic records of 2013."
   ]
  },
  {
   "cell_type": "markdown",
   "metadata": {
    "slideshow": {
     "slide_type": "slide"
    }
   },
   "source": [
    "# Further reading\n",
    "\n",
    "### Flask\n",
    "\n",
    "- [The Flask Documentation](http://flask.pocoo.org/docs/0.11/)\n",
    "- [A Flask tutorial to follow along with](https://github.com/miguelgrinberg/flask-pycon2014)\n",
    "- [Another tutorial that gets into CSS styling](https://code.tutsplus.com/tutorials/an-introduction-to-pythons-flask-framework--net-28822)\n",
    "- [The Flask mega tutorial](http://blog.miguelgrinberg.com/post/the-flask-mega-tutorial-part-ii-templates)\n",
    "- [Flask's development server is not for production](https://stackoverflow.com/questions/12269537/is-the-server-bundled-with-flask-safe-to-use-in-production)\n",
    "- [Setting up Flask on AWS EC2](http://bathompso.com/blog/Flask-AWS-Setup/). This should be your next step if you want to share your model with the world!\n",
    "- [A great guide to those weird \"decorators\"](http://simeonfranklin.com/blog/2012/jul/1/python-decorators-in-12-steps/).\n",
    "\n",
    "### Production coding\n",
    "\n",
    "- Add [logging](https://fangpenlin.com/posts/2012/08/26/good-logging-practice-in-python/) to your code; you'll be very glad you did.\n",
    "- Think ahead and include [error handling](https://eli.thegreenplace.net/2008/08/21/robust-exception-handling/), via [try/except clauses](https://jeffknupp.com/blog/2013/02/06/write-cleaner-python-use-exceptions/)\n",
    "- Get more comfortable with git, including [feature branching](https://www.atlassian.com/git/tutorials/comparing-workflows/feature-branch-workflow).\n",
    "- Include [unit tests](http://www.diveintopython.net/unit_testing/index.html); the [pytest module](http://pythontesting.net/framework/pytest/pytest-introduction/) is great.\n",
    "- [Integrate databases](http://zetcode.com/db/sqlitepythontutorial/)!\n",
    "- Beware technical debt, especially [machine learning technical debt](https://static.googleusercontent.com/media/research.google.com/en//pubs/archive/43146.pdf)."
   ]
  }
 ],
 "metadata": {
  "celltoolbar": "Slideshow",
  "kernelspec": {
   "display_name": "Python 3",
   "language": "python",
   "name": "python3"
  },
  "language_info": {
   "codemirror_mode": {
    "name": "ipython",
    "version": 3
   },
   "file_extension": ".py",
   "mimetype": "text/x-python",
   "name": "python",
   "nbconvert_exporter": "python",
   "pygments_lexer": "ipython3",
   "version": "3.6.6"
  }
 },
 "nbformat": 4,
 "nbformat_minor": 2
}
