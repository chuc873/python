{
 "cells": [
  {
   "cell_type": "markdown",
   "metadata": {},
   "source": [
    "# Lab 04: Scraping Reviews\n",
    "\n",
    "**GOALS**: \n",
    "\n",
    "- Scrape album reviews from Pitchfork\n",
    "- Scrape album images from Pitchfork\n",
    "\n",
    "\n",
    "## LEVEL I"
   ]
  },
  {
   "cell_type": "markdown",
   "metadata": {},
   "source": [
    "In the last example [*intro to webscraping*](08-Beautiful-Soup-Scraping.ipynb), we extracted basic information from the page containing all reviews on **pitchfork.com**.  Now, your task is first, to scrape the links to each review page.  This is akin to clicking on the review, and being taken to the page with the full review.\n",
    "\n",
    "![](images/pitch_ind.png)"
   ]
  },
  {
   "cell_type": "markdown",
   "metadata": {},
   "source": [
    "At each page, your goal is to scrape the headline, the text of the review, the score as a number, the author, genre, and date.  If you're feeling ambitious, grab the sample music files when they exist."
   ]
  },
  {
   "cell_type": "code",
   "execution_count": 49,
   "metadata": {},
   "outputs": [],
   "source": [
    "%matplotlib inline\n",
    "import matplotlib.pyplot as plt\n",
    "import requests\n",
    "from bs4 import BeautifulSoup\n",
    "import pandas as pd\n",
    "import numpy as np"
   ]
  },
  {
   "cell_type": "code",
   "execution_count": 50,
   "metadata": {},
   "outputs": [],
   "source": [
    "page_num = [i for i in range(2, 400)]\n",
    "url = 'https://pitchfork.com/reviews/albums/'\n",
    "response = requests.get(url)\n",
    "soup = BeautifulSoup(response.text, 'html.parser')\n",
    "reviews = soup.find_all('div', {'class': 'review'})"
   ]
  },
  {
   "cell_type": "code",
   "execution_count": 51,
   "metadata": {},
   "outputs": [],
   "source": [
    "artists = []\n",
    "albums = []\n",
    "genre = []\n",
    "author = []\n",
    "when = []\n",
    "links = []\n",
    "for review in reviews:\n",
    "    t = review.find('li').text\n",
    "    artists.append(t)\n",
    "    s = review.find('h2').text\n",
    "    albums.append(s)\n",
    "    genre.append(review.find('li',{'class': 'genre-list__item'}).text)\n",
    "    author.append(review.find('ul', {'class': 'authors'}).text)\n",
    "    when.append(review.find('time').text)\n",
    "    links.append(review.a['href'])"
   ]
  },
  {
   "cell_type": "code",
   "execution_count": 52,
   "metadata": {},
   "outputs": [],
   "source": [
    "df_reviews = pd.DataFrame({'artist': artists, 'albums': albums, 'genre': genre, 'author': author, 'when': when})"
   ]
  },
  {
   "cell_type": "code",
   "execution_count": 53,
   "metadata": {},
   "outputs": [],
   "source": [
    "links = []\n",
    "for i in reviews:\n",
    "    links.append(i.a['href'])"
   ]
  },
  {
   "cell_type": "code",
   "execution_count": 54,
   "metadata": {},
   "outputs": [
    {
     "data": {
      "text/plain": [
       "['/reviews/albums/maxwell-maxwells-urban-hang-suite/',\n",
       " '/reviews/albums/pinegrove-skylight/',\n",
       " '/reviews/albums/joe-strummer-joe-strummer-001/',\n",
       " '/reviews/albums/lupe-fiasco-drogas-wave/',\n",
       " '/reviews/albums/father-awful-swim/',\n",
       " '/reviews/albums/tim-hecker-konoyo/',\n",
       " '/reviews/albums/mount-kimbie-dj-kicks/',\n",
       " '/reviews/albums/roc-marciano-behold-a-dark-horse/',\n",
       " '/reviews/albums/brandon-coleman-resistance/',\n",
       " '/reviews/albums/metric-art-of-doubt/',\n",
       " '/reviews/albums/lonnie-holley-mith/',\n",
       " '/reviews/albums/ryan-hemsworth-elsewhere/']"
      ]
     },
     "execution_count": 54,
     "metadata": {},
     "output_type": "execute_result"
    }
   ],
   "source": [
    "links"
   ]
  },
  {
   "cell_type": "code",
   "execution_count": 55,
   "metadata": {},
   "outputs": [],
   "source": [
    "brief = []\n",
    "full = []\n",
    "for i in links:\n",
    "    url = 'https://pitchfork.com/' + str(i)\n",
    "    resp = requests.get(url)\n",
    "    soup = BeautifulSoup(resp.text, 'html.parser')\n",
    "    brief.append(soup.find('div', {'class': 'review-detail__abstract'}).text)\n",
    "    full.append(soup.find('div', {'class': 'contents dropcap'}).text)"
   ]
  },
  {
   "cell_type": "code",
   "execution_count": 56,
   "metadata": {},
   "outputs": [
    {
     "data": {
      "text/plain": [
       "12"
      ]
     },
     "execution_count": 56,
     "metadata": {},
     "output_type": "execute_result"
    }
   ],
   "source": [
    "len(full)"
   ]
  },
  {
   "cell_type": "code",
   "execution_count": 57,
   "metadata": {},
   "outputs": [
    {
     "data": {
      "text/plain": [
       "12"
      ]
     },
     "execution_count": 57,
     "metadata": {},
     "output_type": "execute_result"
    }
   ],
   "source": [
    "len(brief)"
   ]
  },
  {
   "cell_type": "code",
   "execution_count": 58,
   "metadata": {},
   "outputs": [
    {
     "data": {
      "text/plain": [
       "12"
      ]
     },
     "execution_count": 58,
     "metadata": {},
     "output_type": "execute_result"
    }
   ],
   "source": [
    "len(artists)"
   ]
  },
  {
   "cell_type": "code",
   "execution_count": 59,
   "metadata": {},
   "outputs": [],
   "source": [
    "url = 'https://pitchfork.com/reviews/albums/' + '?page=2'\n",
    "response = requests.get(url)\n",
    "soup = BeautifulSoup(response.text, 'html.parser')\n",
    "reviews = soup.find_all('div', {'class': 'review'})\n",
    "for review in reviews:\n",
    "    t = review.find('li').text\n",
    "    artists.append(t)\n",
    "    s = review.find('h2').text\n",
    "    albums.append(s)\n",
    "    genre.append(review.find('li',{'class': 'genre-list__item'}).text)\n",
    "    author.append(review.find('ul', {'class': 'authors'}).text)\n",
    "    when.append(review.find('time').text)\n",
    "    links.append(review.a['href'])"
   ]
  },
  {
   "cell_type": "code",
   "execution_count": 60,
   "metadata": {},
   "outputs": [
    {
     "data": {
      "text/plain": [
       "24"
      ]
     },
     "execution_count": 60,
     "metadata": {},
     "output_type": "execute_result"
    }
   ],
   "source": [
    "len(artists)"
   ]
  },
  {
   "cell_type": "code",
   "execution_count": 61,
   "metadata": {},
   "outputs": [],
   "source": [
    "for i in links[12:]:\n",
    "    url = 'https://pitchfork.com/' + str(i)\n",
    "    resp = requests.get(url)\n",
    "    soup2 = BeautifulSoup(resp.text, 'html.parser')\n",
    "    brief.append(soup2.find('div', {'class': 'review-detail__abstract'}).text)\n",
    "    full.append(soup2.find('div', {'class': 'contents dropcap'}).text)"
   ]
  },
  {
   "cell_type": "code",
   "execution_count": 62,
   "metadata": {},
   "outputs": [
    {
     "data": {
      "text/plain": [
       "24"
      ]
     },
     "execution_count": 62,
     "metadata": {},
     "output_type": "execute_result"
    }
   ],
   "source": [
    "len(full)"
   ]
  },
  {
   "cell_type": "code",
   "execution_count": 63,
   "metadata": {},
   "outputs": [
    {
     "data": {
      "text/plain": [
       "24"
      ]
     },
     "execution_count": 63,
     "metadata": {},
     "output_type": "execute_result"
    }
   ],
   "source": [
    "len(artists)"
   ]
  },
  {
   "cell_type": "code",
   "execution_count": 64,
   "metadata": {},
   "outputs": [],
   "source": [
    "df_reviews = pd.DataFrame({'artist': artists, 'albums': albums, 'genre': genre, 'author': author, 'when': when, 'brief': brief, 'full': full})"
   ]
  },
  {
   "cell_type": "code",
   "execution_count": 65,
   "metadata": {},
   "outputs": [
    {
     "data": {
      "text/html": [
       "<div>\n",
       "<style scoped>\n",
       "    .dataframe tbody tr th:only-of-type {\n",
       "        vertical-align: middle;\n",
       "    }\n",
       "\n",
       "    .dataframe tbody tr th {\n",
       "        vertical-align: top;\n",
       "    }\n",
       "\n",
       "    .dataframe thead th {\n",
       "        text-align: right;\n",
       "    }\n",
       "</style>\n",
       "<table border=\"1\" class=\"dataframe\">\n",
       "  <thead>\n",
       "    <tr style=\"text-align: right;\">\n",
       "      <th></th>\n",
       "      <th>albums</th>\n",
       "      <th>artist</th>\n",
       "      <th>author</th>\n",
       "      <th>brief</th>\n",
       "      <th>full</th>\n",
       "      <th>genre</th>\n",
       "      <th>when</th>\n",
       "    </tr>\n",
       "  </thead>\n",
       "  <tbody>\n",
       "    <tr>\n",
       "      <th>0</th>\n",
       "      <td>Maxwell’s Urban Hang Suite</td>\n",
       "      <td>Maxwell</td>\n",
       "      <td>by: Jason King</td>\n",
       "      <td>Each Sunday, Pitchfork takes an in-depth look ...</td>\n",
       "      <td>In the late summer of 1996, Harlem was a loopy...</td>\n",
       "      <td>Pop/R&amp;B</td>\n",
       "      <td>19 hrs ago</td>\n",
       "    </tr>\n",
       "    <tr>\n",
       "      <th>1</th>\n",
       "      <td>Skylight</td>\n",
       "      <td>Pinegrove</td>\n",
       "      <td>by: Quinn Moreland</td>\n",
       "      <td>Completed in 2017 and shelved for almost a yea...</td>\n",
       "      <td>A year ago, it looked like Pinegrove’s next mo...</td>\n",
       "      <td>Rock</td>\n",
       "      <td>September 29 2018</td>\n",
       "    </tr>\n",
       "    <tr>\n",
       "      <th>2</th>\n",
       "      <td>Joe Strummer 001</td>\n",
       "      <td>Joe Strummer</td>\n",
       "      <td>by: Stephen Thomas Erlewine</td>\n",
       "      <td>This 32-track collection combines remastered r...</td>\n",
       "      <td>Timing never was Joe Strummer’s strong suit. N...</td>\n",
       "      <td>Rock</td>\n",
       "      <td>September 29 2018</td>\n",
       "    </tr>\n",
       "    <tr>\n",
       "      <th>3</th>\n",
       "      <td>Drogas Wave</td>\n",
       "      <td>Lupe Fiasco</td>\n",
       "      <td>by: Brian Josephs</td>\n",
       "      <td>On his seventh album, the conscious hip-hop fa...</td>\n",
       "      <td>Conscious hip-hop exists in a state of perpetu...</td>\n",
       "      <td>Rap</td>\n",
       "      <td>September 29 2018</td>\n",
       "    </tr>\n",
       "    <tr>\n",
       "      <th>4</th>\n",
       "      <td>Awful Swim</td>\n",
       "      <td>Father</td>\n",
       "      <td>by: Briana Younger</td>\n",
       "      <td>Having relocated to L.A., the Atlanta rapper r...</td>\n",
       "      <td>Father’s music has always been flippant. That ...</td>\n",
       "      <td>Rap</td>\n",
       "      <td>September 29 2018</td>\n",
       "    </tr>\n",
       "  </tbody>\n",
       "</table>\n",
       "</div>"
      ],
      "text/plain": [
       "                       albums        artist                       author  \\\n",
       "0  Maxwell’s Urban Hang Suite       Maxwell               by: Jason King   \n",
       "1                    Skylight     Pinegrove           by: Quinn Moreland   \n",
       "2            Joe Strummer 001  Joe Strummer  by: Stephen Thomas Erlewine   \n",
       "3                 Drogas Wave   Lupe Fiasco            by: Brian Josephs   \n",
       "4                  Awful Swim        Father           by: Briana Younger   \n",
       "\n",
       "                                               brief  \\\n",
       "0  Each Sunday, Pitchfork takes an in-depth look ...   \n",
       "1  Completed in 2017 and shelved for almost a yea...   \n",
       "2  This 32-track collection combines remastered r...   \n",
       "3  On his seventh album, the conscious hip-hop fa...   \n",
       "4  Having relocated to L.A., the Atlanta rapper r...   \n",
       "\n",
       "                                                full    genre  \\\n",
       "0  In the late summer of 1996, Harlem was a loopy...  Pop/R&B   \n",
       "1  A year ago, it looked like Pinegrove’s next mo...     Rock   \n",
       "2  Timing never was Joe Strummer’s strong suit. N...     Rock   \n",
       "3  Conscious hip-hop exists in a state of perpetu...      Rap   \n",
       "4  Father’s music has always been flippant. That ...      Rap   \n",
       "\n",
       "                when  \n",
       "0         19 hrs ago  \n",
       "1  September 29 2018  \n",
       "2  September 29 2018  \n",
       "3  September 29 2018  \n",
       "4  September 29 2018  "
      ]
     },
     "execution_count": 65,
     "metadata": {},
     "output_type": "execute_result"
    }
   ],
   "source": [
    "df_reviews.head()"
   ]
  },
  {
   "cell_type": "code",
   "execution_count": 69,
   "metadata": {},
   "outputs": [],
   "source": [
    "url = 'https://pitchfork.com/reviews/albums/?page=' \n",
    "for i in range(1, 1714):\n",
    "    response = requests.get(url + str(i))\n",
    "    soup = BeautifulSoup(response.text, 'html.parser')\n",
    "    reviews = soup.find_all('div', {'class': 'review'})\n",
    "\n",
    "    for review in reviews:\n",
    "        t = review.find('li').text\n",
    "        artists.append(t)\n",
    "        s = review.find('h2').text\n",
    "        albums.append(s)\n",
    "        genre.append(review.find('li',{'class': 'genre-list__item'}))\n",
    "        author.append(review.find('ul', {'class': 'authors'}).text)\n",
    "        when.append(review.find('time').text)\n",
    "        links.append(review.a['href'])"
   ]
  },
  {
   "cell_type": "code",
   "execution_count": 70,
   "metadata": {},
   "outputs": [
    {
     "data": {
      "text/plain": [
       "20656"
      ]
     },
     "execution_count": 70,
     "metadata": {},
     "output_type": "execute_result"
    }
   ],
   "source": [
    "len(artists)"
   ]
  },
  {
   "cell_type": "code",
   "execution_count": null,
   "metadata": {},
   "outputs": [],
   "source": []
  },
  {
   "cell_type": "code",
   "execution_count": 71,
   "metadata": {},
   "outputs": [
    {
     "data": {
      "text/plain": [
       "20656"
      ]
     },
     "execution_count": 71,
     "metadata": {},
     "output_type": "execute_result"
    }
   ],
   "source": [
    "len(albums)"
   ]
  },
  {
   "cell_type": "code",
   "execution_count": 72,
   "metadata": {},
   "outputs": [
    {
     "data": {
      "text/plain": [
       "20654"
      ]
     },
     "execution_count": 72,
     "metadata": {},
     "output_type": "execute_result"
    }
   ],
   "source": [
    "len(genre)"
   ]
  },
  {
   "cell_type": "code",
   "execution_count": 73,
   "metadata": {},
   "outputs": [
    {
     "data": {
      "text/plain": [
       "20654"
      ]
     },
     "execution_count": 73,
     "metadata": {},
     "output_type": "execute_result"
    }
   ],
   "source": [
    "len(links)"
   ]
  },
  {
   "cell_type": "code",
   "execution_count": 76,
   "metadata": {},
   "outputs": [],
   "source": [
    "brief = []\n",
    "full = []\n",
    "for i in links:\n",
    "    url = 'https://pitchfork.com/' + str(i)\n",
    "    resp = requests.get(url)\n",
    "    soup = BeautifulSoup(resp.text, 'html.parser')\n",
    "    brief.append(soup.find('div', {'class': 'review-detail__abstract'}))\n",
    "    full.append(soup.find('div', {'class': 'contents dropcap'}))"
   ]
  },
  {
   "cell_type": "code",
   "execution_count": 77,
   "metadata": {},
   "outputs": [
    {
     "data": {
      "text/plain": [
       "20654"
      ]
     },
     "execution_count": 77,
     "metadata": {},
     "output_type": "execute_result"
    }
   ],
   "source": [
    "len(brief)"
   ]
  },
  {
   "cell_type": "code",
   "execution_count": 79,
   "metadata": {},
   "outputs": [
    {
     "data": {
      "text/plain": [
       "20654"
      ]
     },
     "execution_count": 79,
     "metadata": {},
     "output_type": "execute_result"
    }
   ],
   "source": [
    "len(full)"
   ]
  },
  {
   "cell_type": "code",
   "execution_count": 81,
   "metadata": {},
   "outputs": [
    {
     "data": {
      "text/plain": [
       "'Lonnie Holley starts MITH, his third album, with a simple, striking statement: “I’m a suspect in America,” he sings over a prismatic keyboard line, stretching the last syllable until he runs out of breath. As a black man who has lived in the cities of the South for much of his life, Holley has endured that reality for 68 years, watching as white suspicion of black bodies has evolved but never receded. “Here I stand accused/My life has been so misused/Through blood, sweat, and tears/I’m a suspect,” he continues, as overdubbed vocals, synthesizers, and woozy trombone bloom around his words. He ultimately reasons that all of us—yes, even the suspects—become dust specks, anyhow. The song drifts into silence.\\nHolley’s life has been dotted by death and hardship. But in the late 1970s, he began assembling everyday detritus into found-art sculptures that balance the pedestrian with the surreal, a practice that has earned him high-profile spots at The Met and the Smithsonian American Art Museum. He made music all the while, sharing it among friends on cassette, but he didn’t issue his first real record until 2012’s Just Before Music, at the age of 62. That record and its follow-up, 2013’s Keeping a Record of It, felt like gentle trips through outer space, as if it were possible to float the Milky Way. But on MITH, Holley does with music what he’s done with visual art for decades: He collects our ugliest obscured objects and transforms them into singular reflections on our troubled world.\\nFor MITH’s 18-minute centerpiece, “I Snuck Off the Slave Ship,” Holley methodically imagines the process and pain of enslavement, beginning by watching his own capture from a distance while chains and hand drums rattle behind him. He uses this narrative conceit to trace intertwined histories of labor and oppression—sneaking off one slave ship only to end up on another, with chattel slavery transformed into industrial wage slavery—well into the future, where the cycle will ostensibly continue. Holley sees dripping blood, drowning bodies, and exploding bombs, his voice rising from familiar astral soul into gnarled screams. “I Woke Up in a Fucked-Up America” follows, made harrowing by horns that herald end times. People have been waking up in a fucked-up America long before the United States existed, but Holley grounds the feeling in our time with references to “overdatafying,” “arguing, fussing, and fighting,” and “the miscount of voting around the world.” Swooping brass and calamitous percussion swell behind him. “Let me out of this dream,” Holley sings of what is actually a nightmare, requesting relief before a final blast of horns seals his fate.\\nAnimated by expanded instrumentation, this unease ripples throughout MITH. Holley’s supporting cast here includes avant-garde instrumentalists like Dave Nelson and Shahzad Ismaily, plus harmonies from folk duo Anna & Elizabeth. Drums from late producer Richard Swift lend “Copying the Rock” a soft sense of chaos. On “Coming Back (From the Distance Between the Spaces of Time),” cymbal splashes and snare rolls add a sense of looming anxiety; Holley sings about a human returning from outer space, warning of the solidarity it will take for us to survive what is to come.\\nBut MITH isn’t entirely mirthless. Holley again maps the skies on “How Far Is Spaced-Out?” and conjures a jazz-adjacent flow during “There Was Always Water,” which features fellow mystic improviser Laraaji. But the finale, “Sometimes I Wanna Dance,” unfolds with such contrasting gaiety that it almost feels accidental. As Laraaji bounds around an upbeat piano line, Holley urges his listeners to “Shake it around, up or down, in or out,” his vocals crisscrossing like dancers across the floor of a high-school gym. A free activity and an act of freedom, dancing requires no special skills or circumstances; you can dance at home or work, for 15 seconds or until your body falls to the floor. No whiplash ending, this is a survivor’s reminder to look beyond pervasive doom and gloom and summon the spirit needed for another day. If we can’t take the time to express the joy of our own creation and our shared humanity, what’s the point of any of this?\\n'"
      ]
     },
     "execution_count": 81,
     "metadata": {},
     "output_type": "execute_result"
    }
   ],
   "source": [
    "full[10].text"
   ]
  },
  {
   "cell_type": "markdown",
   "metadata": {},
   "source": [
    "## LEVEL II\n",
    "\n",
    "Go back to the original page of reviews and scroll down.  Notice that the url at the top of the page is simply adding numbers as it advances.  This pattern will allow you to scrape multiple pages, and gather more reviews from earlier dates.  \n",
    "\n",
    "1. Directly add the next reviews to a new url, and use your pattern above to scrape the additional reviews.\n",
    "2. Write a loop to go through the next ten pages of reviews and gather each piece."
   ]
  },
  {
   "cell_type": "code",
   "execution_count": null,
   "metadata": {},
   "outputs": [],
   "source": []
  },
  {
   "cell_type": "code",
   "execution_count": null,
   "metadata": {},
   "outputs": [],
   "source": []
  },
  {
   "cell_type": "code",
   "execution_count": null,
   "metadata": {},
   "outputs": [],
   "source": []
  },
  {
   "cell_type": "code",
   "execution_count": null,
   "metadata": {},
   "outputs": [],
   "source": []
  },
  {
   "cell_type": "code",
   "execution_count": null,
   "metadata": {},
   "outputs": [],
   "source": []
  },
  {
   "cell_type": "code",
   "execution_count": null,
   "metadata": {},
   "outputs": [],
   "source": []
  },
  {
   "cell_type": "code",
   "execution_count": null,
   "metadata": {},
   "outputs": [],
   "source": []
  },
  {
   "cell_type": "markdown",
   "metadata": {},
   "source": [
    "## LEVEL III\n",
    "\n"
   ]
  },
  {
   "cell_type": "markdown",
   "metadata": {},
   "source": [
    "Write a loop to go through all reviews available.  Save the results as a `.csv` file.  If you were able to scape the images; store these in a folder."
   ]
  },
  {
   "cell_type": "code",
   "execution_count": null,
   "metadata": {},
   "outputs": [],
   "source": []
  },
  {
   "cell_type": "code",
   "execution_count": null,
   "metadata": {},
   "outputs": [],
   "source": []
  },
  {
   "cell_type": "code",
   "execution_count": null,
   "metadata": {},
   "outputs": [],
   "source": []
  },
  {
   "cell_type": "code",
   "execution_count": null,
   "metadata": {},
   "outputs": [],
   "source": []
  },
  {
   "cell_type": "markdown",
   "metadata": {},
   "source": [
    "## LEVEL IV\n",
    "\n",
    "It is easy to use the `textblob` library to add sentiment and polarity of reviews to our `DataFrame`.  We need to convert the text to a `TextBlob` object, and then use the `.polarity` and `.subjectivity` labels of the text as new columns in our `DataFrame`.  Use the example below as a starting place to add two new columns to your dataframe containing the polarity and subjectivity scores for each review."
   ]
  },
  {
   "cell_type": "code",
   "execution_count": 1,
   "metadata": {},
   "outputs": [],
   "source": [
    "rev = \"Danielle Bregoli’s leap from meme to rapper continues with her debut mixtape that leans heavily on mimicry and trails dreadfully behind the current sound of hip-hop.\""
   ]
  },
  {
   "cell_type": "code",
   "execution_count": 2,
   "metadata": {},
   "outputs": [],
   "source": [
    "from textblob import TextBlob"
   ]
  },
  {
   "cell_type": "code",
   "execution_count": 3,
   "metadata": {},
   "outputs": [],
   "source": [
    "text = TextBlob(rev)"
   ]
  },
  {
   "cell_type": "code",
   "execution_count": 5,
   "metadata": {},
   "outputs": [
    {
     "data": {
      "text/plain": [
       "Sentiment(polarity=-0.05000000000000002, subjectivity=0.5)"
      ]
     },
     "execution_count": 5,
     "metadata": {},
     "output_type": "execute_result"
    }
   ],
   "source": [
    "text.sentiment"
   ]
  },
  {
   "cell_type": "code",
   "execution_count": 6,
   "metadata": {},
   "outputs": [
    {
     "data": {
      "text/plain": [
       "-0.05000000000000002"
      ]
     },
     "execution_count": 6,
     "metadata": {},
     "output_type": "execute_result"
    }
   ],
   "source": [
    "text.polarity"
   ]
  },
  {
   "cell_type": "code",
   "execution_count": 8,
   "metadata": {},
   "outputs": [
    {
     "data": {
      "text/plain": [
       "0.5"
      ]
     },
     "execution_count": 8,
     "metadata": {},
     "output_type": "execute_result"
    }
   ],
   "source": [
    "text.subjectivity"
   ]
  },
  {
   "cell_type": "code",
   "execution_count": null,
   "metadata": {},
   "outputs": [],
   "source": []
  },
  {
   "cell_type": "code",
   "execution_count": null,
   "metadata": {},
   "outputs": [],
   "source": []
  },
  {
   "cell_type": "code",
   "execution_count": null,
   "metadata": {},
   "outputs": [],
   "source": []
  },
  {
   "cell_type": "code",
   "execution_count": null,
   "metadata": {},
   "outputs": [],
   "source": []
  },
  {
   "cell_type": "code",
   "execution_count": null,
   "metadata": {},
   "outputs": [],
   "source": []
  },
  {
   "cell_type": "code",
   "execution_count": null,
   "metadata": {},
   "outputs": [],
   "source": []
  },
  {
   "cell_type": "code",
   "execution_count": null,
   "metadata": {},
   "outputs": [],
   "source": []
  }
 ],
 "metadata": {
  "kernelspec": {
   "display_name": "Python 3",
   "language": "python",
   "name": "python3"
  },
  "language_info": {
   "codemirror_mode": {
    "name": "ipython",
    "version": 3
   },
   "file_extension": ".py",
   "mimetype": "text/x-python",
   "name": "python",
   "nbconvert_exporter": "python",
   "pygments_lexer": "ipython3",
   "version": "3.6.6"
  }
 },
 "nbformat": 4,
 "nbformat_minor": 2
}
